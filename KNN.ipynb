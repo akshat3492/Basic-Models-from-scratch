{
 "cells": [
  {
   "cell_type": "code",
   "execution_count": 1,
   "id": "2e1f21b3",
   "metadata": {},
   "outputs": [],
   "source": [
    "import numpy as np\n",
    "import pandas as pd\n",
    "from sklearn.model_selection import train_test_split\n",
    "from sklearn import preprocessing\n",
    "from ucimlrepo import fetch_ucirepo \n",
    "  \n",
    "# fetch dataset \n",
    "heart_disease = fetch_ucirepo(id=45) \n",
    "  \n",
    "# data (as pandas dataframes) \n",
    "X = heart_disease.data.features \n",
    "X = X.values\n",
    "\n",
    "y = heart_disease.data.targets \n",
    "y = y.iloc[:, 0].values\n",
    "\n"
   ]
  },
  {
   "cell_type": "markdown",
   "id": "a1487a5f",
   "metadata": {},
   "source": [
    "### Define KNN Class"
   ]
  },
  {
   "cell_type": "code",
   "execution_count": 2,
   "id": "e24bfe38",
   "metadata": {},
   "outputs": [],
   "source": [
    "def calculate_distance(test, train, method=\"euclidean\"):\n",
    "    if method == \"manhattan\":\n",
    "        return np.sum(np.abs(test-train))\n",
    "    return np.sqrt(np.sum((test - train)**2)) \n",
    "\n",
    "def accuracy(y_true, y_pred):\n",
    "    return np.sum(y_true == y_pred) / len(y_true)\n"
   ]
  },
  {
   "cell_type": "code",
   "execution_count": 3,
   "id": "eb21234f",
   "metadata": {},
   "outputs": [],
   "source": [
    "class KNN:\n",
    "    def __init__(self, k=3, metric=\"euclidean\"):\n",
    "        self.k = k\n",
    "        self.metric = metric\n",
    "        \n",
    "    def fit(self, X, y, preprocess_=False):\n",
    "        if preprocess_:\n",
    "            X, y = pd.DataFrame(X), pd.DataFrame(y)\n",
    "            df = pd.concat([X,y], axis=1).dropna()\n",
    "            X = preprocessing.normalize(df.iloc[:, :-1].values)\n",
    "            y = df.iloc[:, -1].values\n",
    "            self.X_train = X\n",
    "            self.y_train = y\n",
    "        self.X_train = X\n",
    "        self.y_train = y\n",
    "        \n",
    "    def predict(self, X):\n",
    "        predictions = [self.make_predictions(x) for x in X]\n",
    "        return np.array(predictions)\n",
    "    \n",
    "    def make_predictions(self, x):\n",
    "        distances = [calculate_distance(x, x_train, self.metric) for x_train in self.X_train]\n",
    "        indices = np.argsort(distances)[:self.k]\n",
    "        nearest_labels = [self.y_train[i] for i in indices]\n",
    "        pred = np.bincount(nearest_labels).argmax()\n",
    "        return pred"
   ]
  },
  {
   "cell_type": "code",
   "execution_count": 4,
   "id": "a50da43b",
   "metadata": {},
   "outputs": [],
   "source": [
    "X_train, X_test, y_train, y_test = train_test_split(X, y, test_size=0.2, random_state=42)"
   ]
  },
  {
   "cell_type": "code",
   "execution_count": 5,
   "id": "c5cbdf51",
   "metadata": {},
   "outputs": [],
   "source": [
    "knn = KNN(k=2, metric=\"manhattan\")"
   ]
  },
  {
   "cell_type": "code",
   "execution_count": 6,
   "id": "9e227832",
   "metadata": {},
   "outputs": [],
   "source": [
    "knn.fit(X_train, y_train, preprocess_=True)"
   ]
  },
  {
   "cell_type": "code",
   "execution_count": 7,
   "id": "d20d17f0",
   "metadata": {},
   "outputs": [],
   "source": [
    "y_pred = knn.predict(X_test)"
   ]
  },
  {
   "cell_type": "code",
   "execution_count": 9,
   "id": "80c05084",
   "metadata": {},
   "outputs": [],
   "source": [
    "accuracy_score = accuracy(y_test, y_pred)"
   ]
  },
  {
   "cell_type": "code",
   "execution_count": null,
   "id": "ac294959",
   "metadata": {},
   "outputs": [],
   "source": []
  }
 ],
 "metadata": {
  "kernelspec": {
   "display_name": "Python 3 (ipykernel)",
   "language": "python",
   "name": "python3"
  },
  "language_info": {
   "codemirror_mode": {
    "name": "ipython",
    "version": 3
   },
   "file_extension": ".py",
   "mimetype": "text/x-python",
   "name": "python",
   "nbconvert_exporter": "python",
   "pygments_lexer": "ipython3",
   "version": "3.10.6"
  }
 },
 "nbformat": 4,
 "nbformat_minor": 5
}
